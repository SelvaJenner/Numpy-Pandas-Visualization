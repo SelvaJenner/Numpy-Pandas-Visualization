{
 "cells": [
  {
   "cell_type": "markdown",
   "id": "7dd89e52",
   "metadata": {},
   "source": [
    "                                        Mini Project - Python\n",
    "                                        Topic - Loan Dataset"
   ]
  },
  {
   "cell_type": "markdown",
   "id": "d97493d1",
   "metadata": {},
   "source": [
    "Introduction - Loans dataset aims to identify variables which indicate if a\n",
    "person is likely to default, which can be used for identifying the risky loan\n",
    "applicants to avoid any financial loss to the company."
   ]
  },
  {
   "cell_type": "markdown",
   "id": "53c82fce",
   "metadata": {},
   "source": [
    "Dataset Description - It contains the complete loan data for all loans\n",
    "issued through the time period 2007 to 2011."
   ]
  },
  {
   "cell_type": "markdown",
   "id": "78865587",
   "metadata": {},
   "source": [
    "Data Dictionary -\n",
    "1.annual_inc - The self-reported annual income provided by the borrower\n",
    "during registration.\n",
    "\n",
    "2.dti - A ratio calculated using the borrower’s total monthly debt payments on\n",
    "the total debt obligations, excluding mortgage and the requested LC loan,\n",
    "divided by the borrower’s self-reported monthly income.\n",
    "\n",
    "3.emp_length -Employment length in years. Possible values are between 0 and\n",
    "10 where 0 means less than one year and 10 means ten or more years.\n",
    "\n",
    "4.funded_amnt - The total amount committed to that loan at that point in\n",
    "time.\n",
    "\n",
    "5.funded_amnt_inv -The total amount committed by investors for that loan at\n",
    "that point in time.\n",
    "\n",
    "6.grade - LC assigned loan grade\n",
    "\n",
    "7.id - A unique LC assigned ID for the loan listing.\n",
    "\n",
    "8.installment - The monthly payment owed by the borrower if the loan\n",
    "originates.\n",
    "\n",
    "9.int_rate - Interest Rate on the loan\n",
    "\n",
    "10.last_pymnt_amnt-Last total payment amount received\n",
    "\n",
    "11.last_pymnt_d -Last month payment was received\n",
    "\n",
    "12.loan_amnt -The listed amount of the loan applied for by the borrower. If at\n",
    "some point in time, the credit department reduces the loan amount, then it\n",
    "will be reflected in this value.\n",
    "\n",
    "13.loan_status - Current status of the loan\n",
    "\n",
    "14.member_id -A unique LC assigned Id for the borrower member.\n",
    "\n",
    "15.purpose - A category provided by the borrower for the loan request.\n",
    "\n",
    "16.term -The number of payments on the loan. Values are in months and can\n",
    "be either 36 or 60.\n",
    "\n",
    "17.total_acc -The total number of credit lines currently in the borrower's credit\n",
    "file\n",
    "\n",
    "18.total_pymnt -Payments received to date for total amount funded\n",
    "\n",
    "19.total_pymnt_inv -Payments received to date for portion of total amount\n",
    "funded by investors\n",
    "\n",
    "20.total_rec_int -Interest received to date"
   ]
  },
  {
   "cell_type": "markdown",
   "id": "bc441889",
   "metadata": {},
   "source": [
    "Questions -\n",
    "1. Import the dataset and understand it.\n",
    "2. List down the number of rows and columns.\n",
    "3. ‘Int_rate’ column is character type. With the help of lambda function\n",
    "convert into float type.\n",
    "4. Check the datatype of each column.\n",
    "5. Cleaning the dataset- Remove the columns having complete NaN value in\n",
    "the entire dataset.\n",
    "6. Write the code to find the value counts of the ‘loan_status’ category\n",
    "column and filter only the ‘fully paid’ and ‘charged off’ categories.\n",
    "7. Filter the ‘Emp_Len’ column to extract the numerical value from the\n",
    "string.\n",
    "Hint - Emp_len : < 1year, 2 years , 3 years as 1 , 2, 3 so on.\n",
    "8. Using the Lambda function, remove the month from the ‘term’ column\n",
    "such that ‘36 months’, ‘60 months’ appear as 36 and 60 respectively.\n",
    "9. Create a new column as risky_loan_applicant by comparing loan_amnt\n",
    "and funded_amnt with the following criteria -\n",
    "If loan_amnt is less than equals to funded_amnt set it as ‘0’ else set it as\n",
    "‘1’.\n",
    "10. Using the bar plot visualize the loan_status column against categorical\n",
    "column grade, term, verification_status . Write the observation from\n",
    "each graph.\n",
    "11.Using a user defined function convert the ‘emp_len’ column into\n",
    "categorical column as follows -\n",
    "If emp_len is less than equals to 1 then recode as ‘fresher’.\n",
    "If emp_len is greater than 1 and less than 3 then recode as ‘junior’.\n",
    "If emp_len is greater than 3 and less than 7 then recode as ‘senior’\n",
    "If emp_len is greater than 7 then recode as ‘expert’.\n",
    "12.Find the sum of ‘loan_amnt’ for each grade and display the distribution\n",
    "of ‘loan_amnt’ using a pie plot."
   ]
  },
  {
   "cell_type": "code",
   "execution_count": null,
   "id": "6493ecd7",
   "metadata": {},
   "outputs": [],
   "source": [
    "df = "
   ]
  }
 ],
 "metadata": {
  "kernelspec": {
   "display_name": "Python 3 (ipykernel)",
   "language": "python",
   "name": "python3"
  },
  "language_info": {
   "codemirror_mode": {
    "name": "ipython",
    "version": 3
   },
   "file_extension": ".py",
   "mimetype": "text/x-python",
   "name": "python",
   "nbconvert_exporter": "python",
   "pygments_lexer": "ipython3",
   "version": "3.9.13"
  }
 },
 "nbformat": 4,
 "nbformat_minor": 5
}
