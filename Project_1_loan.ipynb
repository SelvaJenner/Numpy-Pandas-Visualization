{
 "cells": [
  {
   "cell_type": "markdown",
   "id": "7dd89e52",
   "metadata": {},
   "source": [
    "                                        Mini Project - Python\n",
    "                                        Topic - Loan Dataset"
   ]
  },
  {
   "cell_type": "markdown",
   "id": "d97493d1",
   "metadata": {},
   "source": [
    "Introduction - Loans dataset aims to identify variables which indicate if a\n",
    "person is likely to default, which can be used for identifying the risky loan\n",
    "applicants to avoid any financial loss to the company."
   ]
  },
  {
   "cell_type": "markdown",
   "id": "53c82fce",
   "metadata": {},
   "source": [
    "Dataset Description - It contains the complete loan data for all loans\n",
    "issued through the time period 2007 to 2011."
   ]
  },
  {
   "cell_type": "markdown",
   "id": "78865587",
   "metadata": {},
   "source": [
    "Data Dictionary -\n",
    "1.annual_inc - The self-reported annual income provided by the borrower\n",
    "during registration.\n",
    "\n",
    "2.dti - A ratio calculated using the borrower’s total monthly debt payments on\n",
    "the total debt obligations, excluding mortgage and the requested LC loan,\n",
    "divided by the borrower’s self-reported monthly income.\n",
    "\n",
    "3.emp_length -Employment length in years. Possible values are between 0 and\n",
    "10 where 0 means less than one year and 10 means ten or more years.\n",
    "\n",
    "4.funded_amnt - The total amount committed to that loan at that point in\n",
    "time.\n",
    "\n",
    "5.funded_amnt_inv -The total amount committed by investors for that loan at\n",
    "that point in time.\n",
    "\n",
    "6.grade - LC assigned loan grade\n",
    "\n",
    "7.id - A unique LC assigned ID for the loan listing.\n",
    "\n",
    "8.installment - The monthly payment owed by the borrower if the loan\n",
    "originates.\n",
    "\n",
    "9.int_rate - Interest Rate on the loan\n",
    "\n",
    "10.last_pymnt_amnt-Last total payment amount received\n",
    "\n",
    "11.last_pymnt_d -Last month payment was received\n",
    "\n",
    "12.loan_amnt -The listed amount of the loan applied for by the borrower. If at\n",
    "some point in time, the credit department reduces the loan amount, then it\n",
    "will be reflected in this value.\n",
    "\n",
    "13.loan_status - Current status of the loan\n",
    "\n",
    "14.member_id -A unique LC assigned Id for the borrower member.\n",
    "\n",
    "15.purpose - A category provided by the borrower for the loan request.\n",
    "\n",
    "16.term -The number of payments on the loan. Values are in months and can\n",
    "be either 36 or 60.\n",
    "\n",
    "17.total_acc -The total number of credit lines currently in the borrower's credit\n",
    "file\n",
    "\n",
    "18.total_pymnt -Payments received to date for total amount funded\n",
    "\n",
    "19.total_pymnt_inv -Payments received to date for portion of total amount\n",
    "funded by investors\n",
    "\n",
    "20.total_rec_int -Interest received to date"
   ]
  },
  {
   "cell_type": "markdown",
   "id": "bc441889",
   "metadata": {},
   "source": [
    "Questions -\n",
    "1. Import the dataset and understand it.\n",
    "2. List down the number of rows and columns.\n",
    "3. ‘Int_rate’ column is character type. With the help of lambda function\n",
    "convert into float type.\n",
    "4. Check the datatype of each column.\n",
    "5. Cleaning the dataset- Remove the columns having complete NaN value in\n",
    "the entire dataset.\n",
    "6. Write the code to find the value counts of the ‘loan_status’ category\n",
    "column and filter only the ‘fully paid’ and ‘charged off’ categories.\n",
    "7. Filter the ‘Emp_Len’ column to extract the numerical value from the\n",
    "string.\n",
    "Hint - Emp_len : < 1year, 2 years , 3 years as 1 , 2, 3 so on.\n",
    "8. Using the Lambda function, remove the month from the ‘term’ column\n",
    "such that ‘36 months’, ‘60 months’ appear as 36 and 60 respectively.\n",
    "9. Create a new column as risky_loan_applicant by comparing loan_amnt\n",
    "and funded_amnt with the following criteria -\n",
    "If loan_amnt is less than equals to funded_amnt set it as ‘0’ else set it as\n",
    "‘1’.\n",
    "10. Using the bar plot visualize the loan_status column against categorical\n",
    "column grade, term, verification_status . Write the observation from\n",
    "each graph.\n",
    "11.Using a user defined function convert the ‘emp_len’ column into\n",
    "categorical column as follows -\n",
    "If emp_len is less than equals to 1 then recode as ‘fresher’.\n",
    "If emp_len is greater than 1 and less than 3 then recode as ‘junior’.\n",
    "If emp_len is greater than 3 and less than 7 then recode as ‘senior’\n",
    "If emp_len is greater than 7 then recode as ‘expert’.\n",
    "12.Find the sum of ‘loan_amnt’ for each grade and display the distribution\n",
    "of ‘loan_amnt’ using a pie plot."
   ]
  },
  {
   "cell_type": "code",
   "execution_count": 232,
   "id": "9c6f63ac",
   "metadata": {},
   "outputs": [],
   "source": [
    "import pandas as pd"
   ]
  },
  {
   "cell_type": "code",
   "execution_count": 233,
   "id": "6493ecd7",
   "metadata": {},
   "outputs": [
    {
     "data": {
      "text/html": [
       "<div>\n",
       "<style scoped>\n",
       "    .dataframe tbody tr th:only-of-type {\n",
       "        vertical-align: middle;\n",
       "    }\n",
       "\n",
       "    .dataframe tbody tr th {\n",
       "        vertical-align: top;\n",
       "    }\n",
       "\n",
       "    .dataframe thead th {\n",
       "        text-align: right;\n",
       "    }\n",
       "</style>\n",
       "<table border=\"1\" class=\"dataframe\">\n",
       "  <thead>\n",
       "    <tr style=\"text-align: right;\">\n",
       "      <th></th>\n",
       "      <th>id</th>\n",
       "      <th>member_id</th>\n",
       "      <th>loan_amnt</th>\n",
       "      <th>funded_amnt</th>\n",
       "      <th>funded_amnt_inv</th>\n",
       "      <th>term</th>\n",
       "      <th>int_rate</th>\n",
       "      <th>installment</th>\n",
       "      <th>grade</th>\n",
       "      <th>emp_length</th>\n",
       "      <th>...</th>\n",
       "      <th>purpose</th>\n",
       "      <th>dti</th>\n",
       "      <th>total_pymnt</th>\n",
       "      <th>total_pymnt_inv</th>\n",
       "      <th>total_rec_prncp</th>\n",
       "      <th>total_rec_int</th>\n",
       "      <th>last_pymnt_d</th>\n",
       "      <th>last_pymnt_amnt</th>\n",
       "      <th>Unnamed: 21</th>\n",
       "      <th>Unnamed: 22</th>\n",
       "    </tr>\n",
       "  </thead>\n",
       "  <tbody>\n",
       "    <tr>\n",
       "      <th>0</th>\n",
       "      <td>1077501</td>\n",
       "      <td>1296599</td>\n",
       "      <td>5000</td>\n",
       "      <td>5000</td>\n",
       "      <td>4975.0</td>\n",
       "      <td>36 months</td>\n",
       "      <td>10.65%</td>\n",
       "      <td>162.87</td>\n",
       "      <td>B</td>\n",
       "      <td>10+ years</td>\n",
       "      <td>...</td>\n",
       "      <td>credit_card</td>\n",
       "      <td>27.65</td>\n",
       "      <td>5863.155187</td>\n",
       "      <td>5833.84</td>\n",
       "      <td>5000.00</td>\n",
       "      <td>863.16</td>\n",
       "      <td>Jan-15</td>\n",
       "      <td>171.62</td>\n",
       "      <td>NaN</td>\n",
       "      <td>NaN</td>\n",
       "    </tr>\n",
       "    <tr>\n",
       "      <th>1</th>\n",
       "      <td>1077430</td>\n",
       "      <td>1314167</td>\n",
       "      <td>2500</td>\n",
       "      <td>2500</td>\n",
       "      <td>2500.0</td>\n",
       "      <td>60 months</td>\n",
       "      <td>15.27%</td>\n",
       "      <td>59.83</td>\n",
       "      <td>C</td>\n",
       "      <td>&lt; 1 year</td>\n",
       "      <td>...</td>\n",
       "      <td>car</td>\n",
       "      <td>1.00</td>\n",
       "      <td>1008.710000</td>\n",
       "      <td>1008.71</td>\n",
       "      <td>456.46</td>\n",
       "      <td>435.17</td>\n",
       "      <td>Apr-13</td>\n",
       "      <td>119.66</td>\n",
       "      <td>NaN</td>\n",
       "      <td>NaN</td>\n",
       "    </tr>\n",
       "    <tr>\n",
       "      <th>2</th>\n",
       "      <td>1077175</td>\n",
       "      <td>1313524</td>\n",
       "      <td>2400</td>\n",
       "      <td>2400</td>\n",
       "      <td>2400.0</td>\n",
       "      <td>36 months</td>\n",
       "      <td>15.96%</td>\n",
       "      <td>84.33</td>\n",
       "      <td>C</td>\n",
       "      <td>10+ years</td>\n",
       "      <td>...</td>\n",
       "      <td>small_business</td>\n",
       "      <td>8.72</td>\n",
       "      <td>3005.666844</td>\n",
       "      <td>3005.67</td>\n",
       "      <td>2400.00</td>\n",
       "      <td>605.67</td>\n",
       "      <td>Jun-14</td>\n",
       "      <td>649.91</td>\n",
       "      <td>NaN</td>\n",
       "      <td>NaN</td>\n",
       "    </tr>\n",
       "    <tr>\n",
       "      <th>3</th>\n",
       "      <td>1076863</td>\n",
       "      <td>1277178</td>\n",
       "      <td>10000</td>\n",
       "      <td>10000</td>\n",
       "      <td>10000.0</td>\n",
       "      <td>36 months</td>\n",
       "      <td>13.49%</td>\n",
       "      <td>339.31</td>\n",
       "      <td>C</td>\n",
       "      <td>10+ years</td>\n",
       "      <td>...</td>\n",
       "      <td>other</td>\n",
       "      <td>20.00</td>\n",
       "      <td>12231.890000</td>\n",
       "      <td>12231.89</td>\n",
       "      <td>10000.00</td>\n",
       "      <td>2214.92</td>\n",
       "      <td>Jan-15</td>\n",
       "      <td>357.48</td>\n",
       "      <td>NaN</td>\n",
       "      <td>NaN</td>\n",
       "    </tr>\n",
       "    <tr>\n",
       "      <th>4</th>\n",
       "      <td>1075358</td>\n",
       "      <td>1311748</td>\n",
       "      <td>3000</td>\n",
       "      <td>3000</td>\n",
       "      <td>3000.0</td>\n",
       "      <td>60 months</td>\n",
       "      <td>12.69%</td>\n",
       "      <td>67.79</td>\n",
       "      <td>B</td>\n",
       "      <td>1 year</td>\n",
       "      <td>...</td>\n",
       "      <td>other</td>\n",
       "      <td>17.94</td>\n",
       "      <td>3513.330000</td>\n",
       "      <td>3513.33</td>\n",
       "      <td>2475.94</td>\n",
       "      <td>1037.39</td>\n",
       "      <td>May-16</td>\n",
       "      <td>67.79</td>\n",
       "      <td>NaN</td>\n",
       "      <td>NaN</td>\n",
       "    </tr>\n",
       "  </tbody>\n",
       "</table>\n",
       "<p>5 rows × 23 columns</p>\n",
       "</div>"
      ],
      "text/plain": [
       "        id  member_id  loan_amnt  funded_amnt  funded_amnt_inv        term  \\\n",
       "0  1077501    1296599       5000         5000           4975.0   36 months   \n",
       "1  1077430    1314167       2500         2500           2500.0   60 months   \n",
       "2  1077175    1313524       2400         2400           2400.0   36 months   \n",
       "3  1076863    1277178      10000        10000          10000.0   36 months   \n",
       "4  1075358    1311748       3000         3000           3000.0   60 months   \n",
       "\n",
       "  int_rate  installment grade emp_length  ...         purpose    dti  \\\n",
       "0   10.65%       162.87     B  10+ years  ...     credit_card  27.65   \n",
       "1   15.27%        59.83     C   < 1 year  ...             car   1.00   \n",
       "2   15.96%        84.33     C  10+ years  ...  small_business   8.72   \n",
       "3   13.49%       339.31     C  10+ years  ...           other  20.00   \n",
       "4   12.69%        67.79     B     1 year  ...           other  17.94   \n",
       "\n",
       "    total_pymnt total_pymnt_inv  total_rec_prncp  total_rec_int  last_pymnt_d  \\\n",
       "0   5863.155187         5833.84          5000.00         863.16        Jan-15   \n",
       "1   1008.710000         1008.71           456.46         435.17        Apr-13   \n",
       "2   3005.666844         3005.67          2400.00         605.67        Jun-14   \n",
       "3  12231.890000        12231.89         10000.00        2214.92        Jan-15   \n",
       "4   3513.330000         3513.33          2475.94        1037.39        May-16   \n",
       "\n",
       "   last_pymnt_amnt  Unnamed: 21 Unnamed: 22  \n",
       "0           171.62          NaN         NaN  \n",
       "1           119.66          NaN         NaN  \n",
       "2           649.91          NaN         NaN  \n",
       "3           357.48          NaN         NaN  \n",
       "4            67.79          NaN         NaN  \n",
       "\n",
       "[5 rows x 23 columns]"
      ]
     },
     "execution_count": 233,
     "metadata": {},
     "output_type": "execute_result"
    }
   ],
   "source": [
    "#Import the dataset and understand it.\n",
    "\n",
    "df = pd.read_csv('loan.csv')\n",
    "df.head()"
   ]
  },
  {
   "cell_type": "code",
   "execution_count": 234,
   "id": "e3663ab2",
   "metadata": {},
   "outputs": [
    {
     "name": "stdout",
     "output_type": "stream",
     "text": [
      "Total number of rows are  39717\n",
      "Total number of columns are  23\n"
     ]
    }
   ],
   "source": [
    "#2. List down the number of rows and columns.\n",
    "\n",
    "print('Total number of rows are ',df.shape[0])\n",
    "print('Total number of columns are ',df.shape[1])\n"
   ]
  },
  {
   "cell_type": "code",
   "execution_count": 235,
   "id": "5b404465",
   "metadata": {},
   "outputs": [
    {
     "data": {
      "text/plain": [
       "dtype('O')"
      ]
     },
     "execution_count": 235,
     "metadata": {},
     "output_type": "execute_result"
    }
   ],
   "source": [
    "#‘Int_rate’ column is character type. With the help of lambda function convert into float type.\n",
    "\n",
    "df['int_rate'].dtype"
   ]
  },
  {
   "cell_type": "code",
   "execution_count": 236,
   "id": "4cd67e98",
   "metadata": {},
   "outputs": [
    {
     "data": {
      "text/plain": [
       "10.99%    956\n",
       "13.49%    826\n",
       "11.49%    825\n",
       "7.51%     787\n",
       "7.88%     725\n",
       "         ... \n",
       "18.36%      1\n",
       "16.96%      1\n",
       "16.15%      1\n",
       "16.01%      1\n",
       "17.44%      1\n",
       "Name: int_rate, Length: 371, dtype: int64"
      ]
     },
     "execution_count": 236,
     "metadata": {},
     "output_type": "execute_result"
    }
   ],
   "source": [
    "df['int_rate'].value_counts()"
   ]
  },
  {
   "cell_type": "code",
   "execution_count": 237,
   "id": "4e388153",
   "metadata": {},
   "outputs": [
    {
     "data": {
      "text/plain": [
       "0"
      ]
     },
     "execution_count": 237,
     "metadata": {},
     "output_type": "execute_result"
    }
   ],
   "source": [
    "df['int_rate'].isna().sum()"
   ]
  },
  {
   "cell_type": "code",
   "execution_count": 238,
   "id": "8efbc04e",
   "metadata": {},
   "outputs": [],
   "source": [
    "df['int_rate'].replace('%', '',regex = True,inplace = True)"
   ]
  },
  {
   "cell_type": "code",
   "execution_count": 239,
   "id": "5291661f",
   "metadata": {},
   "outputs": [
    {
     "data": {
      "text/plain": [
       "0        10.65\n",
       "1        15.27\n",
       "2        15.96\n",
       "3        13.49\n",
       "4        12.69\n",
       "         ...  \n",
       "39712     8.07\n",
       "39713    10.28\n",
       "39714     8.07\n",
       "39715     7.43\n",
       "39716    13.75\n",
       "Name: int_rate, Length: 39717, dtype: object"
      ]
     },
     "execution_count": 239,
     "metadata": {},
     "output_type": "execute_result"
    }
   ],
   "source": [
    "df['int_rate']"
   ]
  },
  {
   "cell_type": "code",
   "execution_count": 240,
   "id": "91473cbc",
   "metadata": {},
   "outputs": [
    {
     "data": {
      "text/plain": [
       "0        10.65\n",
       "1        15.27\n",
       "2        15.96\n",
       "3        13.49\n",
       "4        12.69\n",
       "         ...  \n",
       "39712     8.07\n",
       "39713    10.28\n",
       "39714     8.07\n",
       "39715     7.43\n",
       "39716    13.75\n",
       "Name: int_rate, Length: 39717, dtype: float64"
      ]
     },
     "execution_count": 240,
     "metadata": {},
     "output_type": "execute_result"
    }
   ],
   "source": [
    "df['int_rate'].apply(lambda x: float(x))"
   ]
  },
  {
   "cell_type": "code",
   "execution_count": 241,
   "id": "a53dd16a",
   "metadata": {},
   "outputs": [
    {
     "data": {
      "text/plain": [
       "id                       int64\n",
       "member_id                int64\n",
       "loan_amnt                int64\n",
       "funded_amnt              int64\n",
       "funded_amnt_inv        float64\n",
       "term                    object\n",
       "int_rate                object\n",
       "installment            float64\n",
       "grade                   object\n",
       "emp_length              object\n",
       "annual_inc             float64\n",
       "verification_status     object\n",
       "loan_status             object\n",
       "purpose                 object\n",
       "dti                    float64\n",
       "total_pymnt            float64\n",
       "total_pymnt_inv        float64\n",
       "total_rec_prncp        float64\n",
       "total_rec_int          float64\n",
       "last_pymnt_d            object\n",
       "last_pymnt_amnt        float64\n",
       "Unnamed: 21            float64\n",
       "Unnamed: 22            float64\n",
       "dtype: object"
      ]
     },
     "execution_count": 241,
     "metadata": {},
     "output_type": "execute_result"
    }
   ],
   "source": [
    "#3. Check the datatype of each column.\n",
    "\n",
    "df.dtypes"
   ]
  },
  {
   "cell_type": "code",
   "execution_count": 242,
   "id": "8fc369bd",
   "metadata": {},
   "outputs": [
    {
     "data": {
      "text/plain": [
       "id                         0\n",
       "member_id                  0\n",
       "loan_amnt                  0\n",
       "funded_amnt                0\n",
       "funded_amnt_inv            0\n",
       "term                       0\n",
       "int_rate                   0\n",
       "installment                0\n",
       "grade                      0\n",
       "emp_length              1075\n",
       "annual_inc                 0\n",
       "verification_status        0\n",
       "loan_status                0\n",
       "purpose                    0\n",
       "dti                        0\n",
       "total_pymnt                0\n",
       "total_pymnt_inv            0\n",
       "total_rec_prncp            0\n",
       "total_rec_int              0\n",
       "last_pymnt_d              71\n",
       "last_pymnt_amnt            0\n",
       "Unnamed: 21            39717\n",
       "Unnamed: 22            39717\n",
       "dtype: int64"
      ]
     },
     "execution_count": 242,
     "metadata": {},
     "output_type": "execute_result"
    }
   ],
   "source": [
    "#4. Cleaning the dataset- Remove the columns having complete NaN value in the entire dataset.\n",
    "\n",
    "df.isnull().sum()"
   ]
  },
  {
   "cell_type": "code",
   "execution_count": 243,
   "id": "6df0f0e4",
   "metadata": {},
   "outputs": [],
   "source": [
    "df.drop(columns = ['Unnamed: 21','Unnamed: 22'], axis =1, inplace =True)"
   ]
  },
  {
   "cell_type": "code",
   "execution_count": 244,
   "id": "db718208",
   "metadata": {},
   "outputs": [
    {
     "name": "stdout",
     "output_type": "stream",
     "text": [
      "<class 'pandas.core.frame.DataFrame'>\n",
      "RangeIndex: 39717 entries, 0 to 39716\n",
      "Data columns (total 21 columns):\n",
      " #   Column               Non-Null Count  Dtype  \n",
      "---  ------               --------------  -----  \n",
      " 0   id                   39717 non-null  int64  \n",
      " 1   member_id            39717 non-null  int64  \n",
      " 2   loan_amnt            39717 non-null  int64  \n",
      " 3   funded_amnt          39717 non-null  int64  \n",
      " 4   funded_amnt_inv      39717 non-null  float64\n",
      " 5   term                 39717 non-null  object \n",
      " 6   int_rate             39717 non-null  object \n",
      " 7   installment          39717 non-null  float64\n",
      " 8   grade                39717 non-null  object \n",
      " 9   emp_length           38642 non-null  object \n",
      " 10  annual_inc           39717 non-null  float64\n",
      " 11  verification_status  39717 non-null  object \n",
      " 12  loan_status          39717 non-null  object \n",
      " 13  purpose              39717 non-null  object \n",
      " 14  dti                  39717 non-null  float64\n",
      " 15  total_pymnt          39717 non-null  float64\n",
      " 16  total_pymnt_inv      39717 non-null  float64\n",
      " 17  total_rec_prncp      39717 non-null  float64\n",
      " 18  total_rec_int        39717 non-null  float64\n",
      " 19  last_pymnt_d         39646 non-null  object \n",
      " 20  last_pymnt_amnt      39717 non-null  float64\n",
      "dtypes: float64(9), int64(4), object(8)\n",
      "memory usage: 6.4+ MB\n"
     ]
    }
   ],
   "source": [
    "df.info()"
   ]
  },
  {
   "cell_type": "code",
   "execution_count": 245,
   "id": "2d6a7dfe",
   "metadata": {},
   "outputs": [
    {
     "data": {
      "text/plain": [
       "id                        0\n",
       "member_id                 0\n",
       "loan_amnt                 0\n",
       "funded_amnt               0\n",
       "funded_amnt_inv           0\n",
       "term                      0\n",
       "int_rate                  0\n",
       "installment               0\n",
       "grade                     0\n",
       "emp_length             1075\n",
       "annual_inc                0\n",
       "verification_status       0\n",
       "loan_status               0\n",
       "purpose                   0\n",
       "dti                       0\n",
       "total_pymnt               0\n",
       "total_pymnt_inv           0\n",
       "total_rec_prncp           0\n",
       "total_rec_int             0\n",
       "last_pymnt_d             71\n",
       "last_pymnt_amnt           0\n",
       "dtype: int64"
      ]
     },
     "execution_count": 245,
     "metadata": {},
     "output_type": "execute_result"
    }
   ],
   "source": [
    "df.isna().sum()"
   ]
  },
  {
   "cell_type": "code",
   "execution_count": 246,
   "id": "4f022bef",
   "metadata": {},
   "outputs": [],
   "source": [
    "df.dropna(axis =0,inplace = True)"
   ]
  },
  {
   "cell_type": "code",
   "execution_count": 247,
   "id": "08d31762",
   "metadata": {},
   "outputs": [
    {
     "data": {
      "text/plain": [
       "id                     0\n",
       "member_id              0\n",
       "loan_amnt              0\n",
       "funded_amnt            0\n",
       "funded_amnt_inv        0\n",
       "term                   0\n",
       "int_rate               0\n",
       "installment            0\n",
       "grade                  0\n",
       "emp_length             0\n",
       "annual_inc             0\n",
       "verification_status    0\n",
       "loan_status            0\n",
       "purpose                0\n",
       "dti                    0\n",
       "total_pymnt            0\n",
       "total_pymnt_inv        0\n",
       "total_rec_prncp        0\n",
       "total_rec_int          0\n",
       "last_pymnt_d           0\n",
       "last_pymnt_amnt        0\n",
       "dtype: int64"
      ]
     },
     "execution_count": 247,
     "metadata": {},
     "output_type": "execute_result"
    }
   ],
   "source": [
    "df.isna().sum()"
   ]
  },
  {
   "cell_type": "code",
   "execution_count": 248,
   "id": "3fe59f1e",
   "metadata": {},
   "outputs": [
    {
     "data": {
      "text/plain": [
       "Fully Paid     32145\n",
       "Charged Off     5333\n",
       "Name: loan_status, dtype: int64"
      ]
     },
     "execution_count": 248,
     "metadata": {},
     "output_type": "execute_result"
    }
   ],
   "source": [
    "#6. Write the code to find the value counts of the ‘loan_status’ category\n",
    "#column and filter only the ‘fully paid’ and ‘charged off’ categories.\n",
    "\n",
    "df[(df['loan_status'] == 'Fully Paid') |(df['loan_status'] == 'Charged Off')]['loan_status'].value_counts()"
   ]
  },
  {
   "cell_type": "code",
   "execution_count": 249,
   "id": "d420a135",
   "metadata": {},
   "outputs": [
    {
     "data": {
      "text/plain": [
       "10+ years    8870\n",
       "< 1 year     4575\n",
       "2 years      4382\n",
       "3 years      4088\n",
       "4 years      3428\n",
       "5 years      3273\n",
       "1 year       3229\n",
       "6 years      2228\n",
       "7 years      1772\n",
       "8 years      1476\n",
       "9 years      1255\n",
       "Name: emp_length, dtype: int64"
      ]
     },
     "execution_count": 249,
     "metadata": {},
     "output_type": "execute_result"
    }
   ],
   "source": [
    "#7. Filter the ‘Emp_Len’ column to extract the numerical value from the string.\n",
    "#Hint - Emp_len : < 1year, 2 years , 3 years as 1 , 2, 3 so on.\n",
    "\n",
    "df['emp_length'].value_counts()"
   ]
  },
  {
   "cell_type": "code",
   "execution_count": 250,
   "id": "cebab432",
   "metadata": {},
   "outputs": [],
   "source": [
    "df['emp_length'] = df['emp_length'].str.extract('(\\d+)').astype(int)"
   ]
  },
  {
   "cell_type": "code",
   "execution_count": 251,
   "id": "8c09c4c4",
   "metadata": {},
   "outputs": [
    {
     "data": {
      "text/plain": [
       "10    8870\n",
       "1     7804\n",
       "2     4382\n",
       "3     4088\n",
       "4     3428\n",
       "5     3273\n",
       "6     2228\n",
       "7     1772\n",
       "8     1476\n",
       "9     1255\n",
       "Name: emp_length, dtype: int64"
      ]
     },
     "execution_count": 251,
     "metadata": {},
     "output_type": "execute_result"
    }
   ],
   "source": [
    "df['emp_length'].value_counts()"
   ]
  },
  {
   "cell_type": "code",
   "execution_count": 252,
   "id": "7339f7d8",
   "metadata": {},
   "outputs": [
    {
     "data": {
      "text/plain": [
       "0        36\n",
       "1        60\n",
       "2        36\n",
       "3        36\n",
       "4        60\n",
       "         ..\n",
       "39712    36\n",
       "39713    36\n",
       "39714    36\n",
       "39715    36\n",
       "39716    36\n",
       "Name: term, Length: 38576, dtype: int32"
      ]
     },
     "execution_count": 252,
     "metadata": {},
     "output_type": "execute_result"
    }
   ],
   "source": [
    "#8. Using the Lambda function, remove the month from the ‘term’ column \n",
    "# such that ‘36 months’, ‘60 months’ appear as 36 and 60 respectively.\n",
    "\n",
    "df['term']  = df['term'].apply(lambda x : x.replace(' months',''))\n",
    "df['term'].astype(int)"
   ]
  },
  {
   "cell_type": "code",
   "execution_count": 253,
   "id": "771c98ca",
   "metadata": {},
   "outputs": [],
   "source": [
    "#9. Create a new column as risky_loan_applicant by comparing loan_amnt\n",
    "# and funded_amnt with the following criteria -\n",
    "# If loan_amnt is less than equals to funded_amnt set it as ‘0’ else set it as ‘1’.\n",
    "\n",
    "df['risky_loan_applicant'] = df.apply(lambda x: 0 \n",
    "                                      if x['loan_amnt'] <= x['funded_amnt'] else 1, axis=1)"
   ]
  },
  {
   "cell_type": "code",
   "execution_count": 254,
   "id": "2b6534b3",
   "metadata": {},
   "outputs": [
    {
     "data": {
      "text/plain": [
       "0    36760\n",
       "1     1816\n",
       "Name: risky_loan_applicant, dtype: int64"
      ]
     },
     "execution_count": 254,
     "metadata": {},
     "output_type": "execute_result"
    }
   ],
   "source": [
    "df['risky_loan_applicant'].value_counts()"
   ]
  },
  {
   "cell_type": "code",
   "execution_count": 255,
   "id": "75ee8586",
   "metadata": {},
   "outputs": [
    {
     "name": "stdout",
     "output_type": "stream",
     "text": [
      "<class 'pandas.core.frame.DataFrame'>\n",
      "Int64Index: 38576 entries, 0 to 39716\n",
      "Data columns (total 22 columns):\n",
      " #   Column                Non-Null Count  Dtype  \n",
      "---  ------                --------------  -----  \n",
      " 0   id                    38576 non-null  int64  \n",
      " 1   member_id             38576 non-null  int64  \n",
      " 2   loan_amnt             38576 non-null  int64  \n",
      " 3   funded_amnt           38576 non-null  int64  \n",
      " 4   funded_amnt_inv       38576 non-null  float64\n",
      " 5   term                  38576 non-null  object \n",
      " 6   int_rate              38576 non-null  object \n",
      " 7   installment           38576 non-null  float64\n",
      " 8   grade                 38576 non-null  object \n",
      " 9   emp_length            38576 non-null  int32  \n",
      " 10  annual_inc            38576 non-null  float64\n",
      " 11  verification_status   38576 non-null  object \n",
      " 12  loan_status           38576 non-null  object \n",
      " 13  purpose               38576 non-null  object \n",
      " 14  dti                   38576 non-null  float64\n",
      " 15  total_pymnt           38576 non-null  float64\n",
      " 16  total_pymnt_inv       38576 non-null  float64\n",
      " 17  total_rec_prncp       38576 non-null  float64\n",
      " 18  total_rec_int         38576 non-null  float64\n",
      " 19  last_pymnt_d          38576 non-null  object \n",
      " 20  last_pymnt_amnt       38576 non-null  float64\n",
      " 21  risky_loan_applicant  38576 non-null  int64  \n",
      "dtypes: float64(9), int32(1), int64(5), object(7)\n",
      "memory usage: 6.6+ MB\n"
     ]
    }
   ],
   "source": [
    "df.info()"
   ]
  },
  {
   "cell_type": "code",
   "execution_count": 256,
   "id": "a46d35e7",
   "metadata": {},
   "outputs": [
    {
     "data": {
      "image/png": "[encoded data removed]",
      "text/plain": [
       "<Figure size 634.125x500 with 1 Axes>"
      ]
     },
     "metadata": {},
     "output_type": "display_data"
    }
   ],
   "source": [
    "# 10. Using the bar plot visualize the loan_status column against categorical\n",
    "# column grade, term, verification_status . Write the observation from each graph.\n",
    "\n",
    "import seaborn as sns\n",
    "import matplotlib.pyplot as plt\n",
    "sns.catplot(x='grade', hue='loan_status', data=df, kind='count')\n",
    "plt.show()"
   ]
  },
  {
   "cell_type": "markdown",
   "id": "59475958",
   "metadata": {},
   "source": [
    "#Observations\n",
    "1.The graph shows the distribution of loan status for each loan grade. The majority of loans are in the 'A' and 'B' grades, and these loans have a higher proportion of 'Fully Paid' loan status compared to 'Charged Off' or 'Current' status. As the grade decreases, the proportion of loans with 'Charged Off' status increases."
   ]
  },
  {
   "cell_type": "code",
   "execution_count": 257,
   "id": "ea6a406f",
   "metadata": {},
   "outputs": [
    {
     "data": {
      "image/png": "[encoded data removed]",
      "text/plain": [
       "<Figure size 634.125x500 with 1 Axes>"
      ]
     },
     "metadata": {},
     "output_type": "display_data"
    }
   ],
   "source": [
    "sns.catplot(x='term', hue='loan_status', data=df, kind='count')\n",
    "plt.show()"
   ]
  },
  {
   "cell_type": "raw",
   "id": "ec3ad798",
   "metadata": {},
   "source": [
    "# observations\n",
    "1. The graph shows the distribution of loan status for each loan term. Loans with a 36-month term have a higher proportion of 'Fully Paid' loan status compared to 'Charged Off' or 'Current' status, whereas loans with a 60-month term have a higher proportion of 'Charged Off' loan status compared to 'Fully Paid' or 'Current' status.  "
   ]
  },
  {
   "cell_type": "code",
   "execution_count": 258,
   "id": "a56978ce",
   "metadata": {},
   "outputs": [
    {
     "data": {
      "image/png": "[encoded data removed]",
      "text/plain": [
       "<Figure size 634.125x500 with 1 Axes>"
      ]
     },
     "metadata": {},
     "output_type": "display_data"
    }
   ],
   "source": [
    "sns.catplot(x='verification_status', hue='loan_status', data=df, kind='count')\n",
    "plt.show()"
   ]
  },
  {
   "cell_type": "raw",
   "id": "0a6744da",
   "metadata": {},
   "source": [
    "#observation\n",
    "Verification Status vs Loan Status: The graph shows the distribution of loan status for each verification status. Loans that are 'Verified' or 'Source Verified' have a higher proportion of 'Fully Paid' loan status compared to 'Charged Off' or 'Current' status, whereas loans that are 'Not Verified' have a higher proportion of 'Charged Off' loan status compared to 'Fully Paid' or 'Current' status."
   ]
  },
  {
   "cell_type": "code",
   "execution_count": 259,
   "id": "5b8947c2",
   "metadata": {},
   "outputs": [],
   "source": [
    "#11.Using a user defined function convert the ‘emp_len’ column into\n",
    "#categorical column as follows -\n",
    "#If emp_len is less than equals to 1 then recode as ‘fresher’.\n",
    "#If emp_len is greater than 1 and less than 3 then recode as ‘junior’.\n",
    "#If emp_len is greater than 3 and less than 7 then recode as ‘senior’\n",
    "#If emp_len is greater than 7 then recode as ‘expert’.\n",
    "\n",
    "def conv(x):\n",
    "    if x <= 1:\n",
    "        x = 'fresher'\n",
    "    elif x > 1 and x< 3:\n",
    "        x = 'junior'\n",
    "    elif x >= 3  and x < 7:\n",
    "        x = 'senior'\n",
    "    else:\n",
    "        x = 'expert'\n",
    "        \n",
    "    return x\n",
    "\n",
    "df.emp_length = df.emp_length.apply(conv)\n",
    "        "
   ]
  },
  {
   "cell_type": "code",
   "execution_count": 260,
   "id": "4ab9f967",
   "metadata": {},
   "outputs": [
    {
     "data": {
      "text/plain": [
       "expert     13373\n",
       "senior     13017\n",
       "fresher     7804\n",
       "junior      4382\n",
       "Name: emp_length, dtype: int64"
      ]
     },
     "execution_count": 260,
     "metadata": {},
     "output_type": "execute_result"
    }
   ],
   "source": [
    "df.emp_length.value_counts()"
   ]
  },
  {
   "cell_type": "code",
   "execution_count": 261,
   "id": "be1500bc",
   "metadata": {},
   "outputs": [
    {
     "data": {
      "text/html": [
       "<div>\n",
       "<style scoped>\n",
       "    .dataframe tbody tr th:only-of-type {\n",
       "        vertical-align: middle;\n",
       "    }\n",
       "\n",
       "    .dataframe tbody tr th {\n",
       "        vertical-align: top;\n",
       "    }\n",
       "\n",
       "    .dataframe thead th {\n",
       "        text-align: right;\n",
       "    }\n",
       "</style>\n",
       "<table border=\"1\" class=\"dataframe\">\n",
       "  <thead>\n",
       "    <tr style=\"text-align: right;\">\n",
       "      <th></th>\n",
       "      <th>id</th>\n",
       "      <th>member_id</th>\n",
       "      <th>loan_amnt</th>\n",
       "      <th>funded_amnt</th>\n",
       "      <th>funded_amnt_inv</th>\n",
       "      <th>term</th>\n",
       "      <th>int_rate</th>\n",
       "      <th>installment</th>\n",
       "      <th>grade</th>\n",
       "      <th>emp_length</th>\n",
       "      <th>...</th>\n",
       "      <th>loan_status</th>\n",
       "      <th>purpose</th>\n",
       "      <th>dti</th>\n",
       "      <th>total_pymnt</th>\n",
       "      <th>total_pymnt_inv</th>\n",
       "      <th>total_rec_prncp</th>\n",
       "      <th>total_rec_int</th>\n",
       "      <th>last_pymnt_d</th>\n",
       "      <th>last_pymnt_amnt</th>\n",
       "      <th>risky_loan_applicant</th>\n",
       "    </tr>\n",
       "  </thead>\n",
       "  <tbody>\n",
       "    <tr>\n",
       "      <th>0</th>\n",
       "      <td>1077501</td>\n",
       "      <td>1296599</td>\n",
       "      <td>5000</td>\n",
       "      <td>5000</td>\n",
       "      <td>4975.0</td>\n",
       "      <td>36</td>\n",
       "      <td>10.65</td>\n",
       "      <td>162.87</td>\n",
       "      <td>B</td>\n",
       "      <td>expert</td>\n",
       "      <td>...</td>\n",
       "      <td>Fully Paid</td>\n",
       "      <td>credit_card</td>\n",
       "      <td>27.65</td>\n",
       "      <td>5863.155187</td>\n",
       "      <td>5833.84</td>\n",
       "      <td>5000.00</td>\n",
       "      <td>863.16</td>\n",
       "      <td>Jan-15</td>\n",
       "      <td>171.62</td>\n",
       "      <td>0</td>\n",
       "    </tr>\n",
       "    <tr>\n",
       "      <th>1</th>\n",
       "      <td>1077430</td>\n",
       "      <td>1314167</td>\n",
       "      <td>2500</td>\n",
       "      <td>2500</td>\n",
       "      <td>2500.0</td>\n",
       "      <td>60</td>\n",
       "      <td>15.27</td>\n",
       "      <td>59.83</td>\n",
       "      <td>C</td>\n",
       "      <td>fresher</td>\n",
       "      <td>...</td>\n",
       "      <td>Charged Off</td>\n",
       "      <td>car</td>\n",
       "      <td>1.00</td>\n",
       "      <td>1008.710000</td>\n",
       "      <td>1008.71</td>\n",
       "      <td>456.46</td>\n",
       "      <td>435.17</td>\n",
       "      <td>Apr-13</td>\n",
       "      <td>119.66</td>\n",
       "      <td>0</td>\n",
       "    </tr>\n",
       "  </tbody>\n",
       "</table>\n",
       "<p>2 rows × 22 columns</p>\n",
       "</div>"
      ],
      "text/plain": [
       "        id  member_id  loan_amnt  funded_amnt  funded_amnt_inv term int_rate  \\\n",
       "0  1077501    1296599       5000         5000           4975.0   36    10.65   \n",
       "1  1077430    1314167       2500         2500           2500.0   60    15.27   \n",
       "\n",
       "   installment grade emp_length  ...  loan_status      purpose    dti  \\\n",
       "0       162.87     B     expert  ...   Fully Paid  credit_card  27.65   \n",
       "1        59.83     C    fresher  ...  Charged Off          car   1.00   \n",
       "\n",
       "   total_pymnt  total_pymnt_inv  total_rec_prncp  total_rec_int  last_pymnt_d  \\\n",
       "0  5863.155187          5833.84          5000.00         863.16        Jan-15   \n",
       "1  1008.710000          1008.71           456.46         435.17        Apr-13   \n",
       "\n",
       "   last_pymnt_amnt risky_loan_applicant  \n",
       "0           171.62                    0  \n",
       "1           119.66                    0  \n",
       "\n",
       "[2 rows x 22 columns]"
      ]
     },
     "execution_count": 261,
     "metadata": {},
     "output_type": "execute_result"
    }
   ],
   "source": [
    "# 12.Find the sum of ‘loan_amnt’ for each grade and display the distribution\n",
    "# of ‘loan_amnt’ using a pie plot.\n",
    "\n",
    "df.head(2)"
   ]
  },
  {
   "cell_type": "code",
   "execution_count": 271,
   "id": "2fbe294d",
   "metadata": {},
   "outputs": [
    {
     "data": {
      "image/png": "[encoded data removed]",
      "text/plain": [
       "<Figure size 640x480 with 1 Axes>"
      ]
     },
     "metadata": {},
     "output_type": "display_data"
    }
   ],
   "source": [
    "df.groupby(['grade'])['loan_amnt'].sum().plot(kind = 'pie',autopct = '%.2f%%',legend =True)\n",
    "plt.show()"
   ]
  },
  {
   "cell_type": "raw",
   "id": "a724518e",
   "metadata": {},
   "source": [
    "#Observations\n",
    "1. The graph shows the distribution of sum of loan amount with respect to grade. The B grade has the most sum of loan amount distribution with almost 1/3rd of the total distribution, Where as the least distribution is present in G grade. F and G are the least sum of loan amount distribution.  "
   ]
  },
  {
   "cell_type": "markdown",
   "id": "bc1eec3f",
   "metadata": {},
   "source": [
    "                                            Gracias"
   ]
  }
 ],
 "metadata": {
  "kernelspec": {
   "display_name": "Python 3 (ipykernel)",
   "language": "python",
   "name": "python3"
  },
  "language_info": {
   "codemirror_mode": {
    "name": "ipython",
    "version": 3
   },
   "file_extension": ".py",
   "mimetype": "text/x-python",
   "name": "python",
   "nbconvert_exporter": "python",
   "pygments_lexer": "ipython3",
   "version": "3.9.13"
  }
 },
 "nbformat": 4,
 "nbformat_minor": 5
}
